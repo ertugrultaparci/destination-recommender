{
 "cells": [
  {
   "cell_type": "markdown",
   "id": "dfbdd091",
   "metadata": {},
   "source": [
    "# Destination Recommender"
   ]
  },
  {
   "cell_type": "markdown",
   "id": "a557a5c9",
   "metadata": {},
   "source": [
    "## Library"
   ]
  },
  {
   "cell_type": "code",
   "execution_count": 1,
   "id": "5f7dcaa1",
   "metadata": {},
   "outputs": [],
   "source": [
    "import numpy as np\n",
    "import pandas as pd\n",
    "\n",
    "\n",
    "from sklearn.model_selection import train_test_split\n",
    "from sklearn.preprocessing import LabelEncoder\n",
    "from sklearn.preprocessing import MinMaxScaler\n",
    "from sklearn import preprocessing\n",
    "from sklearn.model_selection import KFold\n",
    "\n",
    "from keras.models import Sequential\n",
    "from keras.layers import Dense\n",
    "from keras.utils import np_utils\n",
    "from keras import backend as K\n",
    "from keras.models import model_from_json\n",
    "\n",
    "from numpy import argmax"
   ]
  },
  {
   "cell_type": "code",
   "execution_count": 2,
   "id": "3045b089",
   "metadata": {},
   "outputs": [],
   "source": [
    "#pip install scikeras"
   ]
  },
  {
   "cell_type": "markdown",
   "id": "3fcc1644",
   "metadata": {},
   "source": [
    "## Data Preparation"
   ]
  },
  {
   "cell_type": "markdown",
   "id": "55a2a5f0",
   "metadata": {},
   "source": [
    "### Read Data"
   ]
  },
  {
   "cell_type": "code",
   "execution_count": 3,
   "id": "df050183",
   "metadata": {},
   "outputs": [],
   "source": [
    "dataframe = pd.read_csv('newdata.csv', encoding='latin-1', index_col = None)"
   ]
  },
  {
   "cell_type": "code",
   "execution_count": 4,
   "id": "85a310be",
   "metadata": {},
   "outputs": [
    {
     "data": {
      "text/html": [
       "<div>\n",
       "<style scoped>\n",
       "    .dataframe tbody tr th:only-of-type {\n",
       "        vertical-align: middle;\n",
       "    }\n",
       "\n",
       "    .dataframe tbody tr th {\n",
       "        vertical-align: top;\n",
       "    }\n",
       "\n",
       "    .dataframe thead th {\n",
       "        text-align: right;\n",
       "    }\n",
       "</style>\n",
       "<table border=\"1\" class=\"dataframe\">\n",
       "  <thead>\n",
       "    <tr style=\"text-align: right;\">\n",
       "      <th></th>\n",
       "      <th>Booking_Date</th>\n",
       "      <th>FakeName</th>\n",
       "      <th>FakeMail</th>\n",
       "      <th>Orig_Airport</th>\n",
       "      <th>Dest_Airport</th>\n",
       "    </tr>\n",
       "  </thead>\n",
       "  <tbody>\n",
       "    <tr>\n",
       "      <th>0</th>\n",
       "      <td>2021-01-01</td>\n",
       "      <td>X0</td>\n",
       "      <td>M0</td>\n",
       "      <td>MPL</td>\n",
       "      <td>BGO</td>\n",
       "    </tr>\n",
       "    <tr>\n",
       "      <th>1</th>\n",
       "      <td>2021-01-01</td>\n",
       "      <td>X1</td>\n",
       "      <td>M1</td>\n",
       "      <td>MRS</td>\n",
       "      <td>CFR</td>\n",
       "    </tr>\n",
       "    <tr>\n",
       "      <th>2</th>\n",
       "      <td>2021-01-01</td>\n",
       "      <td>X2</td>\n",
       "      <td>M2</td>\n",
       "      <td>ORY</td>\n",
       "      <td>PTP</td>\n",
       "    </tr>\n",
       "    <tr>\n",
       "      <th>3</th>\n",
       "      <td>2021-01-01</td>\n",
       "      <td>X3</td>\n",
       "      <td>M3</td>\n",
       "      <td>MAN</td>\n",
       "      <td>AMS</td>\n",
       "    </tr>\n",
       "    <tr>\n",
       "      <th>4</th>\n",
       "      <td>2021-01-01</td>\n",
       "      <td>X4</td>\n",
       "      <td>M1</td>\n",
       "      <td>MUC</td>\n",
       "      <td>AMS</td>\n",
       "    </tr>\n",
       "  </tbody>\n",
       "</table>\n",
       "</div>"
      ],
      "text/plain": [
       "  Booking_Date FakeName FakeMail Orig_Airport Dest_Airport\n",
       "0   2021-01-01       X0       M0          MPL          BGO\n",
       "1   2021-01-01       X1       M1          MRS          CFR\n",
       "2   2021-01-01       X2       M2          ORY          PTP\n",
       "3   2021-01-01       X3       M3          MAN          AMS\n",
       "4   2021-01-01       X4       M1          MUC          AMS"
      ]
     },
     "execution_count": 4,
     "metadata": {},
     "output_type": "execute_result"
    }
   ],
   "source": [
    "dataframe.head(5)"
   ]
  },
  {
   "cell_type": "code",
   "execution_count": 5,
   "id": "4c1b4371",
   "metadata": {},
   "outputs": [
    {
     "data": {
      "text/plain": [
       "(315687, 5)"
      ]
     },
     "execution_count": 5,
     "metadata": {},
     "output_type": "execute_result"
    }
   ],
   "source": [
    "dataframe.shape"
   ]
  },
  {
   "cell_type": "code",
   "execution_count": 6,
   "id": "cdc60e71",
   "metadata": {},
   "outputs": [],
   "source": [
    "# change the column names:\n",
    "dataframe = dataframe.rename(columns={'FakeName': 'FullNm', 'FakeMail': 'Email_Address'})"
   ]
  },
  {
   "cell_type": "code",
   "execution_count": 7,
   "id": "d2763359",
   "metadata": {},
   "outputs": [
    {
     "data": {
      "text/plain": [
       "min    2021-01-01\n",
       "max    2022-12-28\n",
       "Name: Booking_Date, dtype: object"
      ]
     },
     "execution_count": 7,
     "metadata": {},
     "output_type": "execute_result"
    }
   ],
   "source": [
    "# Maximum and minimum date:\n",
    "dataframe['Booking_Date'].agg(['min', 'max'])"
   ]
  },
  {
   "cell_type": "code",
   "execution_count": 8,
   "id": "61e704f8",
   "metadata": {},
   "outputs": [
    {
     "data": {
      "text/html": [
       "<div>\n",
       "<style scoped>\n",
       "    .dataframe tbody tr th:only-of-type {\n",
       "        vertical-align: middle;\n",
       "    }\n",
       "\n",
       "    .dataframe tbody tr th {\n",
       "        vertical-align: top;\n",
       "    }\n",
       "\n",
       "    .dataframe thead th {\n",
       "        text-align: right;\n",
       "    }\n",
       "</style>\n",
       "<table border=\"1\" class=\"dataframe\">\n",
       "  <thead>\n",
       "    <tr style=\"text-align: right;\">\n",
       "      <th></th>\n",
       "      <th>Booking_Date</th>\n",
       "      <th>FullNm</th>\n",
       "      <th>Email_Address</th>\n",
       "      <th>Orig_Airport</th>\n",
       "      <th>Dest_Airport</th>\n",
       "    </tr>\n",
       "  </thead>\n",
       "  <tbody>\n",
       "    <tr>\n",
       "      <th>0</th>\n",
       "      <td>2021-01-01</td>\n",
       "      <td>X0</td>\n",
       "      <td>M0</td>\n",
       "      <td>MPL</td>\n",
       "      <td>BGO</td>\n",
       "    </tr>\n",
       "    <tr>\n",
       "      <th>1</th>\n",
       "      <td>2021-01-01</td>\n",
       "      <td>X1</td>\n",
       "      <td>M1</td>\n",
       "      <td>MRS</td>\n",
       "      <td>CFR</td>\n",
       "    </tr>\n",
       "    <tr>\n",
       "      <th>2</th>\n",
       "      <td>2021-01-01</td>\n",
       "      <td>X2</td>\n",
       "      <td>M2</td>\n",
       "      <td>ORY</td>\n",
       "      <td>PTP</td>\n",
       "    </tr>\n",
       "    <tr>\n",
       "      <th>3</th>\n",
       "      <td>2021-01-01</td>\n",
       "      <td>X3</td>\n",
       "      <td>M3</td>\n",
       "      <td>MAN</td>\n",
       "      <td>AMS</td>\n",
       "    </tr>\n",
       "    <tr>\n",
       "      <th>4</th>\n",
       "      <td>2021-01-01</td>\n",
       "      <td>X4</td>\n",
       "      <td>M1</td>\n",
       "      <td>MUC</td>\n",
       "      <td>AMS</td>\n",
       "    </tr>\n",
       "    <tr>\n",
       "      <th>5</th>\n",
       "      <td>2021-01-01</td>\n",
       "      <td>X5</td>\n",
       "      <td>M4</td>\n",
       "      <td>LHR</td>\n",
       "      <td>YYZ</td>\n",
       "    </tr>\n",
       "    <tr>\n",
       "      <th>6</th>\n",
       "      <td>2021-01-01</td>\n",
       "      <td>X6</td>\n",
       "      <td>M4</td>\n",
       "      <td>CPH</td>\n",
       "      <td>AUA</td>\n",
       "    </tr>\n",
       "    <tr>\n",
       "      <th>7</th>\n",
       "      <td>2021-01-01</td>\n",
       "      <td>X7</td>\n",
       "      <td>M1</td>\n",
       "      <td>ORY</td>\n",
       "      <td>PGF</td>\n",
       "    </tr>\n",
       "    <tr>\n",
       "      <th>8</th>\n",
       "      <td>2021-01-01</td>\n",
       "      <td>X8</td>\n",
       "      <td>M4</td>\n",
       "      <td>CDG</td>\n",
       "      <td>TLS</td>\n",
       "    </tr>\n",
       "    <tr>\n",
       "      <th>9</th>\n",
       "      <td>2021-01-01</td>\n",
       "      <td>X9</td>\n",
       "      <td>M4</td>\n",
       "      <td>CDG</td>\n",
       "      <td>NTE</td>\n",
       "    </tr>\n",
       "  </tbody>\n",
       "</table>\n",
       "</div>"
      ],
      "text/plain": [
       "  Booking_Date FullNm Email_Address Orig_Airport Dest_Airport\n",
       "0   2021-01-01     X0            M0          MPL          BGO\n",
       "1   2021-01-01     X1            M1          MRS          CFR\n",
       "2   2021-01-01     X2            M2          ORY          PTP\n",
       "3   2021-01-01     X3            M3          MAN          AMS\n",
       "4   2021-01-01     X4            M1          MUC          AMS\n",
       "5   2021-01-01     X5            M4          LHR          YYZ\n",
       "6   2021-01-01     X6            M4          CPH          AUA\n",
       "7   2021-01-01     X7            M1          ORY          PGF\n",
       "8   2021-01-01     X8            M4          CDG          TLS\n",
       "9   2021-01-01     X9            M4          CDG          NTE"
      ]
     },
     "execution_count": 8,
     "metadata": {},
     "output_type": "execute_result"
    }
   ],
   "source": [
    "dataframe.head(10)"
   ]
  },
  {
   "cell_type": "markdown",
   "id": "8ecf41c5",
   "metadata": {},
   "source": [
    "### Filter Data:"
   ]
  },
  {
   "cell_type": "markdown",
   "id": "ad485c55",
   "metadata": {},
   "source": [
    "#### Select the date only for 2022"
   ]
  },
  {
   "cell_type": "code",
   "execution_count": 9,
   "id": "ad9d6e52",
   "metadata": {},
   "outputs": [],
   "source": [
    "dataframe = dataframe[dataframe.Booking_Date >= '2022-01-01']"
   ]
  },
  {
   "cell_type": "markdown",
   "id": "c331018d",
   "metadata": {},
   "source": [
    "#### Select people who have more than 100 flight"
   ]
  },
  {
   "cell_type": "code",
   "execution_count": 10,
   "id": "7d6fd092",
   "metadata": {},
   "outputs": [],
   "source": [
    "dataframe['FullNm_count'] = dataframe.groupby('FullNm')['FullNm'].transform('count')"
   ]
  },
  {
   "cell_type": "code",
   "execution_count": 11,
   "id": "5bbb78aa",
   "metadata": {},
   "outputs": [],
   "source": [
    "dataframe = dataframe[dataframe.FullNm_count >= 100]"
   ]
  },
  {
   "cell_type": "code",
   "execution_count": 12,
   "id": "b5e2cafb",
   "metadata": {},
   "outputs": [
    {
     "data": {
      "text/plain": [
       "(8234, 6)"
      ]
     },
     "execution_count": 12,
     "metadata": {},
     "output_type": "execute_result"
    }
   ],
   "source": [
    "dataframe.shape"
   ]
  },
  {
   "cell_type": "code",
   "execution_count": 13,
   "id": "a3e61da8",
   "metadata": {},
   "outputs": [],
   "source": [
    "#dataframe.groupby(['FullNm', 'Booking_Date']).head(1)"
   ]
  },
  {
   "cell_type": "code",
   "execution_count": 14,
   "id": "ace8c81b",
   "metadata": {},
   "outputs": [],
   "source": [
    "nm_of_data = 30"
   ]
  },
  {
   "cell_type": "code",
   "execution_count": 15,
   "id": "f1db8c36",
   "metadata": {},
   "outputs": [],
   "source": [
    "dataframe = dataframe.groupby('FullNm').head(nm_of_data)"
   ]
  },
  {
   "cell_type": "code",
   "execution_count": 16,
   "id": "cad24d8a",
   "metadata": {},
   "outputs": [
    {
     "data": {
      "text/plain": [
       "384"
      ]
     },
     "execution_count": 16,
     "metadata": {},
     "output_type": "execute_result"
    }
   ],
   "source": [
    "dataframe.groupby('FullNm').head(1).size"
   ]
  },
  {
   "cell_type": "code",
   "execution_count": 17,
   "id": "402b9765",
   "metadata": {},
   "outputs": [
    {
     "data": {
      "text/plain": [
       "min    100\n",
       "max    316\n",
       "Name: FullNm_count, dtype: int64"
      ]
     },
     "execution_count": 17,
     "metadata": {},
     "output_type": "execute_result"
    }
   ],
   "source": [
    "# Maximum and minimum date:\n",
    "dataframe['FullNm_count'].agg(['min', 'max'])"
   ]
  },
  {
   "cell_type": "code",
   "execution_count": 18,
   "id": "9219ee6d",
   "metadata": {},
   "outputs": [
    {
     "data": {
      "text/plain": [
       "64"
      ]
     },
     "execution_count": 18,
     "metadata": {},
     "output_type": "execute_result"
    }
   ],
   "source": [
    "# how many people in the data:\n",
    "dataframe.FullNm.unique().size"
   ]
  },
  {
   "cell_type": "code",
   "execution_count": 19,
   "id": "4802cb6c",
   "metadata": {},
   "outputs": [],
   "source": [
    "dataframe = dataframe[['FullNm', 'Email_Address', 'Orig_Airport', 'Dest_Airport']]"
   ]
  },
  {
   "cell_type": "markdown",
   "id": "2c5e5b57",
   "metadata": {},
   "source": [
    "### Encode the dataset:"
   ]
  },
  {
   "cell_type": "code",
   "execution_count": 20,
   "id": "1e51b5dd",
   "metadata": {},
   "outputs": [],
   "source": [
    "dataset = dataframe.values\n",
    "\n",
    "# categories and columns to be encoded\n",
    "name = dataset[:,0]\n",
    "mail = dataset[:,1]\n",
    "orig = dataset[:,2]\n",
    "\n",
    "\n",
    "# label column to be encoded:\n",
    "dest = dataset[:,3]"
   ]
  },
  {
   "cell_type": "code",
   "execution_count": 21,
   "id": "cce20959",
   "metadata": {},
   "outputs": [],
   "source": [
    "def feature_encoder(feature):\n",
    "    encoder = preprocessing.LabelEncoder()\n",
    "    encoder.fit(feature)\n",
    "\n",
    "    return encoder"
   ]
  },
  {
   "cell_type": "code",
   "execution_count": 22,
   "id": "e15f2c4d",
   "metadata": {},
   "outputs": [],
   "source": [
    "# encode name values as integers\n",
    "encoder_name = feature_encoder(name)\n",
    "encoded_name = encoder_name.transform(name)\n",
    "\n",
    "# encode mail values as integers\n",
    "encoder_mail = feature_encoder(mail)\n",
    "encoded_mail = encoder_mail.transform(mail)\n",
    "\n",
    "# encode orig values as integers\n",
    "encoder_orig = feature_encoder(orig)\n",
    "encoded_orig = encoder_orig.transform(orig)\n",
    "\n",
    "# encode dest values as integers\n",
    "encoder_dest = feature_encoder(dest)\n",
    "encoded_dest = encoder_dest.transform(dest)"
   ]
  },
  {
   "cell_type": "code",
   "execution_count": 23,
   "id": "f5408f0c",
   "metadata": {},
   "outputs": [
    {
     "data": {
      "text/plain": [
       "array([57])"
      ]
     },
     "execution_count": 23,
     "metadata": {},
     "output_type": "execute_result"
    }
   ],
   "source": [
    "encoded_name2 = encoder_name.transform(['X7495'])\n",
    "encoded_name2"
   ]
  },
  {
   "cell_type": "code",
   "execution_count": 24,
   "id": "74668933",
   "metadata": {},
   "outputs": [
    {
     "data": {
      "text/plain": [
       "array([58, 57, 37, ..., 18, 18, 18])"
      ]
     },
     "execution_count": 24,
     "metadata": {},
     "output_type": "execute_result"
    }
   ],
   "source": [
    "encoded_name"
   ]
  },
  {
   "cell_type": "markdown",
   "id": "9fca138f",
   "metadata": {},
   "source": [
    "### Create a dataframe with embedded columns:"
   ]
  },
  {
   "cell_type": "code",
   "execution_count": 25,
   "id": "ca3ebb06",
   "metadata": {},
   "outputs": [],
   "source": [
    "new_dataframe = pd.DataFrame()\n",
    "\n",
    "new_dataframe['0'] = encoded_name\n",
    "new_dataframe['1'] = encoded_mail\n",
    "new_dataframe['2'] = encoded_orig\n",
    "\n",
    "#dataframe['Orig_Airport'] = encoded_X\n",
    "new_dataframe_y = pd.DataFrame()\n",
    "new_dataframe_y['Dest'] = encoded_dest"
   ]
  },
  {
   "cell_type": "code",
   "execution_count": 26,
   "id": "fadb6e00",
   "metadata": {},
   "outputs": [
    {
     "data": {
      "text/html": [
       "<div>\n",
       "<style scoped>\n",
       "    .dataframe tbody tr th:only-of-type {\n",
       "        vertical-align: middle;\n",
       "    }\n",
       "\n",
       "    .dataframe tbody tr th {\n",
       "        vertical-align: top;\n",
       "    }\n",
       "\n",
       "    .dataframe thead th {\n",
       "        text-align: right;\n",
       "    }\n",
       "</style>\n",
       "<table border=\"1\" class=\"dataframe\">\n",
       "  <thead>\n",
       "    <tr style=\"text-align: right;\">\n",
       "      <th></th>\n",
       "      <th>0</th>\n",
       "      <th>1</th>\n",
       "      <th>2</th>\n",
       "    </tr>\n",
       "  </thead>\n",
       "  <tbody>\n",
       "    <tr>\n",
       "      <th>0</th>\n",
       "      <td>58</td>\n",
       "      <td>30</td>\n",
       "      <td>5</td>\n",
       "    </tr>\n",
       "    <tr>\n",
       "      <th>1</th>\n",
       "      <td>57</td>\n",
       "      <td>5</td>\n",
       "      <td>20</td>\n",
       "    </tr>\n",
       "    <tr>\n",
       "      <th>2</th>\n",
       "      <td>37</td>\n",
       "      <td>20</td>\n",
       "      <td>49</td>\n",
       "    </tr>\n",
       "    <tr>\n",
       "      <th>3</th>\n",
       "      <td>51</td>\n",
       "      <td>26</td>\n",
       "      <td>17</td>\n",
       "    </tr>\n",
       "    <tr>\n",
       "      <th>4</th>\n",
       "      <td>51</td>\n",
       "      <td>26</td>\n",
       "      <td>5</td>\n",
       "    </tr>\n",
       "    <tr>\n",
       "      <th>...</th>\n",
       "      <td>...</td>\n",
       "      <td>...</td>\n",
       "      <td>...</td>\n",
       "    </tr>\n",
       "    <tr>\n",
       "      <th>1915</th>\n",
       "      <td>18</td>\n",
       "      <td>14</td>\n",
       "      <td>20</td>\n",
       "    </tr>\n",
       "    <tr>\n",
       "      <th>1916</th>\n",
       "      <td>18</td>\n",
       "      <td>14</td>\n",
       "      <td>20</td>\n",
       "    </tr>\n",
       "    <tr>\n",
       "      <th>1917</th>\n",
       "      <td>18</td>\n",
       "      <td>14</td>\n",
       "      <td>20</td>\n",
       "    </tr>\n",
       "    <tr>\n",
       "      <th>1918</th>\n",
       "      <td>18</td>\n",
       "      <td>14</td>\n",
       "      <td>20</td>\n",
       "    </tr>\n",
       "    <tr>\n",
       "      <th>1919</th>\n",
       "      <td>18</td>\n",
       "      <td>14</td>\n",
       "      <td>20</td>\n",
       "    </tr>\n",
       "  </tbody>\n",
       "</table>\n",
       "<p>1920 rows × 3 columns</p>\n",
       "</div>"
      ],
      "text/plain": [
       "       0   1   2\n",
       "0     58  30   5\n",
       "1     57   5  20\n",
       "2     37  20  49\n",
       "3     51  26  17\n",
       "4     51  26   5\n",
       "...   ..  ..  ..\n",
       "1915  18  14  20\n",
       "1916  18  14  20\n",
       "1917  18  14  20\n",
       "1918  18  14  20\n",
       "1919  18  14  20\n",
       "\n",
       "[1920 rows x 3 columns]"
      ]
     },
     "execution_count": 26,
     "metadata": {},
     "output_type": "execute_result"
    }
   ],
   "source": [
    "new_dataframe"
   ]
  },
  {
   "cell_type": "code",
   "execution_count": 27,
   "id": "e999a554",
   "metadata": {},
   "outputs": [
    {
     "data": {
      "text/plain": [
       "5760"
      ]
     },
     "execution_count": 27,
     "metadata": {},
     "output_type": "execute_result"
    }
   ],
   "source": [
    "new_dataframe.size"
   ]
  },
  {
   "cell_type": "code",
   "execution_count": 28,
   "id": "3dbf9899",
   "metadata": {},
   "outputs": [
    {
     "data": {
      "text/plain": [
       "112"
      ]
     },
     "execution_count": 28,
     "metadata": {},
     "output_type": "execute_result"
    }
   ],
   "source": [
    "output_size = new_dataframe_y.Dest.unique().size\n",
    "output_size"
   ]
  },
  {
   "cell_type": "code",
   "execution_count": 29,
   "id": "26e11a53",
   "metadata": {},
   "outputs": [],
   "source": [
    "X = new_dataframe\n",
    "y = new_dataframe_y"
   ]
  },
  {
   "cell_type": "code",
   "execution_count": 30,
   "id": "585575a6",
   "metadata": {},
   "outputs": [],
   "source": [
    "X_train, X_test, y_train, y_test = train_test_split(X, y, test_size=0.2, random_state=42)"
   ]
  },
  {
   "cell_type": "code",
   "execution_count": 31,
   "id": "a7606e6d",
   "metadata": {
    "scrolled": true
   },
   "outputs": [
    {
     "data": {
      "text/plain": [
       "(1536, 3)"
      ]
     },
     "execution_count": 31,
     "metadata": {},
     "output_type": "execute_result"
    }
   ],
   "source": [
    "X_train.shape"
   ]
  },
  {
   "cell_type": "code",
   "execution_count": 32,
   "id": "6cd1c1bc",
   "metadata": {},
   "outputs": [
    {
     "data": {
      "text/plain": [
       "(1536, 1)"
      ]
     },
     "execution_count": 32,
     "metadata": {},
     "output_type": "execute_result"
    }
   ],
   "source": [
    "y_train.shape"
   ]
  },
  {
   "cell_type": "code",
   "execution_count": 33,
   "id": "d2274cf1",
   "metadata": {},
   "outputs": [
    {
     "data": {
      "text/plain": [
       "(384, 3)"
      ]
     },
     "execution_count": 33,
     "metadata": {},
     "output_type": "execute_result"
    }
   ],
   "source": [
    "X_test.shape"
   ]
  },
  {
   "cell_type": "code",
   "execution_count": 34,
   "id": "4698660f",
   "metadata": {},
   "outputs": [
    {
     "data": {
      "text/plain": [
       "(384, 1)"
      ]
     },
     "execution_count": 34,
     "metadata": {},
     "output_type": "execute_result"
    }
   ],
   "source": [
    "y_test.shape"
   ]
  },
  {
   "cell_type": "code",
   "execution_count": 35,
   "id": "7f741bb0",
   "metadata": {},
   "outputs": [
    {
     "data": {
      "text/html": [
       "<div>\n",
       "<style scoped>\n",
       "    .dataframe tbody tr th:only-of-type {\n",
       "        vertical-align: middle;\n",
       "    }\n",
       "\n",
       "    .dataframe tbody tr th {\n",
       "        vertical-align: top;\n",
       "    }\n",
       "\n",
       "    .dataframe thead th {\n",
       "        text-align: right;\n",
       "    }\n",
       "</style>\n",
       "<table border=\"1\" class=\"dataframe\">\n",
       "  <thead>\n",
       "    <tr style=\"text-align: right;\">\n",
       "      <th></th>\n",
       "      <th>Dest</th>\n",
       "    </tr>\n",
       "  </thead>\n",
       "  <tbody>\n",
       "    <tr>\n",
       "      <th>590</th>\n",
       "      <td>26</td>\n",
       "    </tr>\n",
       "    <tr>\n",
       "      <th>426</th>\n",
       "      <td>68</td>\n",
       "    </tr>\n",
       "    <tr>\n",
       "      <th>141</th>\n",
       "      <td>22</td>\n",
       "    </tr>\n",
       "    <tr>\n",
       "      <th>1157</th>\n",
       "      <td>57</td>\n",
       "    </tr>\n",
       "    <tr>\n",
       "      <th>965</th>\n",
       "      <td>74</td>\n",
       "    </tr>\n",
       "    <tr>\n",
       "      <th>...</th>\n",
       "      <td>...</td>\n",
       "    </tr>\n",
       "    <tr>\n",
       "      <th>1130</th>\n",
       "      <td>64</td>\n",
       "    </tr>\n",
       "    <tr>\n",
       "      <th>1294</th>\n",
       "      <td>49</td>\n",
       "    </tr>\n",
       "    <tr>\n",
       "      <th>860</th>\n",
       "      <td>16</td>\n",
       "    </tr>\n",
       "    <tr>\n",
       "      <th>1459</th>\n",
       "      <td>26</td>\n",
       "    </tr>\n",
       "    <tr>\n",
       "      <th>1126</th>\n",
       "      <td>64</td>\n",
       "    </tr>\n",
       "  </tbody>\n",
       "</table>\n",
       "<p>1536 rows × 1 columns</p>\n",
       "</div>"
      ],
      "text/plain": [
       "      Dest\n",
       "590     26\n",
       "426     68\n",
       "141     22\n",
       "1157    57\n",
       "965     74\n",
       "...    ...\n",
       "1130    64\n",
       "1294    49\n",
       "860     16\n",
       "1459    26\n",
       "1126    64\n",
       "\n",
       "[1536 rows x 1 columns]"
      ]
     },
     "execution_count": 35,
     "metadata": {},
     "output_type": "execute_result"
    }
   ],
   "source": [
    "y_train"
   ]
  },
  {
   "cell_type": "markdown",
   "id": "d260debb",
   "metadata": {},
   "source": [
    "### 2 - Model Building"
   ]
  },
  {
   "cell_type": "code",
   "execution_count": 36,
   "id": "2e5a202c",
   "metadata": {},
   "outputs": [],
   "source": [
    "yhot_train = np_utils.to_categorical(y_train)\n",
    "yhot_test = np_utils.to_categorical(y_test)"
   ]
  },
  {
   "cell_type": "code",
   "execution_count": 37,
   "id": "91236b3f",
   "metadata": {},
   "outputs": [
    {
     "data": {
      "text/plain": [
       "(1536, 112)"
      ]
     },
     "execution_count": 37,
     "metadata": {},
     "output_type": "execute_result"
    }
   ],
   "source": [
    "yhot_train.shape"
   ]
  },
  {
   "cell_type": "code",
   "execution_count": 38,
   "id": "17c5083d",
   "metadata": {},
   "outputs": [
    {
     "data": {
      "text/plain": [
       "(384, 112)"
      ]
     },
     "execution_count": 38,
     "metadata": {},
     "output_type": "execute_result"
    }
   ],
   "source": [
    "yhot_test.shape"
   ]
  },
  {
   "cell_type": "code",
   "execution_count": 39,
   "id": "5ef80234",
   "metadata": {},
   "outputs": [],
   "source": [
    "def sequential_model():\n",
    "    # create model:\n",
    "    model = Sequential()\n",
    "    # add hidden layers:\n",
    "    model.add(Dense(128, input_dim=3, activation='relu'))\n",
    "    model.add(Dense(64, activation = 'relu'))\n",
    "    model.add(Dense(32, activation = 'relu'))\n",
    "    model.add(Dense(16, activation = 'relu'))\n",
    "    # output layer:\n",
    "    model.add(Dense(output_size, activation='softmax'))\n",
    "    # compile model:\n",
    "    model.compile(loss='categorical_crossentropy', optimizer='adam', metrics=['accuracy'])\n",
    "    return model"
   ]
  },
  {
   "cell_type": "code",
   "execution_count": 40,
   "id": "956a1dfe",
   "metadata": {},
   "outputs": [],
   "source": [
    "model = sequential_model()\n",
    "model.compile(loss='categorical_crossentropy', optimizer='adam', metrics=['accuracy'])\n",
    "\n",
    "history = model.fit(X_train, yhot_train, validation_split=0.33,\n",
    "                    epochs=1500, batch_size=32, verbose=0)"
   ]
  },
  {
   "cell_type": "code",
   "execution_count": 41,
   "id": "be96b5f1",
   "metadata": {},
   "outputs": [
    {
     "name": "stdout",
     "output_type": "stream",
     "text": [
      "dict_keys(['loss', 'accuracy', 'val_loss', 'val_accuracy'])\n"
     ]
    },
    {
     "data": {
      "image/png": "[encoded data removed]",
      "text/plain": [
       "<Figure size 432x288 with 1 Axes>"
      ]
     },
     "metadata": {
      "needs_background": "light"
     },
     "output_type": "display_data"
    },
    {
     "data": {
      "image/png": "[encoded data removed]",
      "text/plain": [
       "<Figure size 432x288 with 1 Axes>"
      ]
     },
     "metadata": {
      "needs_background": "light"
     },
     "output_type": "display_data"
    }
   ],
   "source": [
    "import matplotlib.pyplot as plt\n",
    "# list all data in history\n",
    "print(history.history.keys())\n",
    "# summarize history for accuracy\n",
    "plt.plot(history.history['accuracy'])\n",
    "plt.plot(history.history['val_accuracy'])\n",
    "plt.title('model accuracy')\n",
    "plt.ylabel('accuracy')\n",
    "plt.xlabel('epoch')\n",
    "plt.legend(['train', 'test'], loc='upper left')\n",
    "plt.show()\n",
    "# summarize history for loss\n",
    "plt.plot(history.history['loss'])\n",
    "plt.plot(history.history['val_loss'])\n",
    "plt.title('model loss')\n",
    "plt.ylabel('loss')\n",
    "plt.xlabel('epoch')\n",
    "plt.legend(['train', 'test'], loc='upper left')\n",
    "plt.show()"
   ]
  },
  {
   "cell_type": "code",
   "execution_count": 42,
   "id": "649df07c",
   "metadata": {},
   "outputs": [
    {
     "name": "stdout",
     "output_type": "stream",
     "text": [
      "12/12 [==============================] - 0s 1ms/step - loss: 6.8746 - accuracy: 0.6875\n",
      "Accuracy from evaluate: 68.75\n"
     ]
    }
   ],
   "source": [
    "# evaluate the keras model\n",
    "_, accuracy = model.evaluate(X_test, yhot_test)\n",
    "print('Accuracy from evaluate: %.2f' % (accuracy*100))"
   ]
  },
  {
   "cell_type": "code",
   "execution_count": 43,
   "id": "56d3ee01",
   "metadata": {},
   "outputs": [
    {
     "name": "stdout",
     "output_type": "stream",
     "text": [
      "12/12 [==============================] - 0s 911us/step\n"
     ]
    }
   ],
   "source": [
    "predict_x = model.predict(X_test)\n",
    "pred = np.argmax(predict_x, axis=1)\n",
    "#print(f'Prediction Accuracy: {(pred == y_test).mean() * 100:f}')"
   ]
  },
  {
   "cell_type": "code",
   "execution_count": 44,
   "id": "881d1826",
   "metadata": {},
   "outputs": [],
   "source": [
    "df = pd.DataFrame()\n",
    "\n",
    "#df[\"Org\"] = encoder.inverse_transform(X_test)\n",
    "df[\"Dest\"] = encoder_dest.inverse_transform(argmax(yhot_test, axis=1))\n",
    "df[\"Pred_Dest\"] = encoder_dest.inverse_transform(pred)"
   ]
  },
  {
   "cell_type": "code",
   "execution_count": 45,
   "id": "afcc09fb",
   "metadata": {},
   "outputs": [
    {
     "data": {
      "text/html": [
       "<div>\n",
       "<style scoped>\n",
       "    .dataframe tbody tr th:only-of-type {\n",
       "        vertical-align: middle;\n",
       "    }\n",
       "\n",
       "    .dataframe tbody tr th {\n",
       "        vertical-align: top;\n",
       "    }\n",
       "\n",
       "    .dataframe thead th {\n",
       "        text-align: right;\n",
       "    }\n",
       "</style>\n",
       "<table border=\"1\" class=\"dataframe\">\n",
       "  <thead>\n",
       "    <tr style=\"text-align: right;\">\n",
       "      <th></th>\n",
       "      <th>Dest</th>\n",
       "      <th>Pred_Dest</th>\n",
       "    </tr>\n",
       "  </thead>\n",
       "  <tbody>\n",
       "    <tr>\n",
       "      <th>0</th>\n",
       "      <td>CDG</td>\n",
       "      <td>CDG</td>\n",
       "    </tr>\n",
       "    <tr>\n",
       "      <th>1</th>\n",
       "      <td>LYS</td>\n",
       "      <td>LYS</td>\n",
       "    </tr>\n",
       "    <tr>\n",
       "      <th>2</th>\n",
       "      <td>AMS</td>\n",
       "      <td>MRS</td>\n",
       "    </tr>\n",
       "    <tr>\n",
       "      <th>3</th>\n",
       "      <td>AMS</td>\n",
       "      <td>AMS</td>\n",
       "    </tr>\n",
       "    <tr>\n",
       "      <th>4</th>\n",
       "      <td>AMS</td>\n",
       "      <td>AMS</td>\n",
       "    </tr>\n",
       "    <tr>\n",
       "      <th>...</th>\n",
       "      <td>...</td>\n",
       "      <td>...</td>\n",
       "    </tr>\n",
       "    <tr>\n",
       "      <th>379</th>\n",
       "      <td>ORY</td>\n",
       "      <td>ORY</td>\n",
       "    </tr>\n",
       "    <tr>\n",
       "      <th>380</th>\n",
       "      <td>ORY</td>\n",
       "      <td>ORY</td>\n",
       "    </tr>\n",
       "    <tr>\n",
       "      <th>381</th>\n",
       "      <td>BER</td>\n",
       "      <td>BER</td>\n",
       "    </tr>\n",
       "    <tr>\n",
       "      <th>382</th>\n",
       "      <td>BCN</td>\n",
       "      <td>LUX</td>\n",
       "    </tr>\n",
       "    <tr>\n",
       "      <th>383</th>\n",
       "      <td>FCO</td>\n",
       "      <td>LHR</td>\n",
       "    </tr>\n",
       "  </tbody>\n",
       "</table>\n",
       "<p>384 rows × 2 columns</p>\n",
       "</div>"
      ],
      "text/plain": [
       "    Dest Pred_Dest\n",
       "0    CDG       CDG\n",
       "1    LYS       LYS\n",
       "2    AMS       MRS\n",
       "3    AMS       AMS\n",
       "4    AMS       AMS\n",
       "..   ...       ...\n",
       "379  ORY       ORY\n",
       "380  ORY       ORY\n",
       "381  BER       BER\n",
       "382  BCN       LUX\n",
       "383  FCO       LHR\n",
       "\n",
       "[384 rows x 2 columns]"
      ]
     },
     "execution_count": 45,
     "metadata": {},
     "output_type": "execute_result"
    }
   ],
   "source": [
    "df"
   ]
  },
  {
   "cell_type": "code",
   "execution_count": 46,
   "id": "105a26d8",
   "metadata": {},
   "outputs": [
    {
     "data": {
      "text/html": [
       "<div>\n",
       "<style scoped>\n",
       "    .dataframe tbody tr th:only-of-type {\n",
       "        vertical-align: middle;\n",
       "    }\n",
       "\n",
       "    .dataframe tbody tr th {\n",
       "        vertical-align: top;\n",
       "    }\n",
       "\n",
       "    .dataframe thead th {\n",
       "        text-align: right;\n",
       "    }\n",
       "</style>\n",
       "<table border=\"1\" class=\"dataframe\">\n",
       "  <thead>\n",
       "    <tr style=\"text-align: right;\">\n",
       "      <th></th>\n",
       "      <th>Dest</th>\n",
       "      <th>Pred_Dest</th>\n",
       "    </tr>\n",
       "  </thead>\n",
       "  <tbody>\n",
       "    <tr>\n",
       "      <th>0</th>\n",
       "      <td>CDG</td>\n",
       "      <td>CDG</td>\n",
       "    </tr>\n",
       "    <tr>\n",
       "      <th>1</th>\n",
       "      <td>LYS</td>\n",
       "      <td>LYS</td>\n",
       "    </tr>\n",
       "    <tr>\n",
       "      <th>3</th>\n",
       "      <td>AMS</td>\n",
       "      <td>AMS</td>\n",
       "    </tr>\n",
       "    <tr>\n",
       "      <th>4</th>\n",
       "      <td>AMS</td>\n",
       "      <td>AMS</td>\n",
       "    </tr>\n",
       "    <tr>\n",
       "      <th>5</th>\n",
       "      <td>BER</td>\n",
       "      <td>BER</td>\n",
       "    </tr>\n",
       "    <tr>\n",
       "      <th>...</th>\n",
       "      <td>...</td>\n",
       "      <td>...</td>\n",
       "    </tr>\n",
       "    <tr>\n",
       "      <th>376</th>\n",
       "      <td>OSL</td>\n",
       "      <td>OSL</td>\n",
       "    </tr>\n",
       "    <tr>\n",
       "      <th>377</th>\n",
       "      <td>CDG</td>\n",
       "      <td>CDG</td>\n",
       "    </tr>\n",
       "    <tr>\n",
       "      <th>379</th>\n",
       "      <td>ORY</td>\n",
       "      <td>ORY</td>\n",
       "    </tr>\n",
       "    <tr>\n",
       "      <th>380</th>\n",
       "      <td>ORY</td>\n",
       "      <td>ORY</td>\n",
       "    </tr>\n",
       "    <tr>\n",
       "      <th>381</th>\n",
       "      <td>BER</td>\n",
       "      <td>BER</td>\n",
       "    </tr>\n",
       "  </tbody>\n",
       "</table>\n",
       "<p>264 rows × 2 columns</p>\n",
       "</div>"
      ],
      "text/plain": [
       "    Dest Pred_Dest\n",
       "0    CDG       CDG\n",
       "1    LYS       LYS\n",
       "3    AMS       AMS\n",
       "4    AMS       AMS\n",
       "5    BER       BER\n",
       "..   ...       ...\n",
       "376  OSL       OSL\n",
       "377  CDG       CDG\n",
       "379  ORY       ORY\n",
       "380  ORY       ORY\n",
       "381  BER       BER\n",
       "\n",
       "[264 rows x 2 columns]"
      ]
     },
     "execution_count": 46,
     "metadata": {},
     "output_type": "execute_result"
    }
   ],
   "source": [
    "df[df[\"Dest\"]==df[\"Pred_Dest\"]]"
   ]
  },
  {
   "cell_type": "code",
   "execution_count": 47,
   "id": "de19fd1f",
   "metadata": {},
   "outputs": [
    {
     "data": {
      "text/html": [
       "<div>\n",
       "<style scoped>\n",
       "    .dataframe tbody tr th:only-of-type {\n",
       "        vertical-align: middle;\n",
       "    }\n",
       "\n",
       "    .dataframe tbody tr th {\n",
       "        vertical-align: top;\n",
       "    }\n",
       "\n",
       "    .dataframe thead th {\n",
       "        text-align: right;\n",
       "    }\n",
       "</style>\n",
       "<table border=\"1\" class=\"dataframe\">\n",
       "  <thead>\n",
       "    <tr style=\"text-align: right;\">\n",
       "      <th></th>\n",
       "      <th>0</th>\n",
       "      <th>1</th>\n",
       "      <th>2</th>\n",
       "    </tr>\n",
       "  </thead>\n",
       "  <tbody>\n",
       "    <tr>\n",
       "      <th>998</th>\n",
       "      <td>34</td>\n",
       "      <td>71</td>\n",
       "      <td>52</td>\n",
       "    </tr>\n",
       "    <tr>\n",
       "      <th>1621</th>\n",
       "      <td>47</td>\n",
       "      <td>25</td>\n",
       "      <td>46</td>\n",
       "    </tr>\n",
       "    <tr>\n",
       "      <th>611</th>\n",
       "      <td>35</td>\n",
       "      <td>18</td>\n",
       "      <td>17</td>\n",
       "    </tr>\n",
       "    <tr>\n",
       "      <th>514</th>\n",
       "      <td>27</td>\n",
       "      <td>62</td>\n",
       "      <td>39</td>\n",
       "    </tr>\n",
       "    <tr>\n",
       "      <th>413</th>\n",
       "      <td>19</td>\n",
       "      <td>58</td>\n",
       "      <td>7</td>\n",
       "    </tr>\n",
       "    <tr>\n",
       "      <th>...</th>\n",
       "      <td>...</td>\n",
       "      <td>...</td>\n",
       "      <td>...</td>\n",
       "    </tr>\n",
       "    <tr>\n",
       "      <th>192</th>\n",
       "      <td>12</td>\n",
       "      <td>12</td>\n",
       "      <td>44</td>\n",
       "    </tr>\n",
       "    <tr>\n",
       "      <th>1730</th>\n",
       "      <td>0</td>\n",
       "      <td>6</td>\n",
       "      <td>55</td>\n",
       "    </tr>\n",
       "    <tr>\n",
       "      <th>433</th>\n",
       "      <td>16</td>\n",
       "      <td>55</td>\n",
       "      <td>5</td>\n",
       "    </tr>\n",
       "    <tr>\n",
       "      <th>570</th>\n",
       "      <td>27</td>\n",
       "      <td>62</td>\n",
       "      <td>5</td>\n",
       "    </tr>\n",
       "    <tr>\n",
       "      <th>741</th>\n",
       "      <td>53</td>\n",
       "      <td>27</td>\n",
       "      <td>20</td>\n",
       "    </tr>\n",
       "  </tbody>\n",
       "</table>\n",
       "<p>384 rows × 3 columns</p>\n",
       "</div>"
      ],
      "text/plain": [
       "       0   1   2\n",
       "998   34  71  52\n",
       "1621  47  25  46\n",
       "611   35  18  17\n",
       "514   27  62  39\n",
       "413   19  58   7\n",
       "...   ..  ..  ..\n",
       "192   12  12  44\n",
       "1730   0   6  55\n",
       "433   16  55   5\n",
       "570   27  62   5\n",
       "741   53  27  20\n",
       "\n",
       "[384 rows x 3 columns]"
      ]
     },
     "execution_count": 47,
     "metadata": {},
     "output_type": "execute_result"
    }
   ],
   "source": [
    "X_test"
   ]
  },
  {
   "cell_type": "code",
   "execution_count": 48,
   "id": "edaa78c8",
   "metadata": {},
   "outputs": [],
   "source": [
    "new_test = pd.DataFrame()"
   ]
  },
  {
   "cell_type": "code",
   "execution_count": 49,
   "id": "4a0fda6f",
   "metadata": {},
   "outputs": [],
   "source": [
    "new_test['0'] = [54]\n",
    "new_test['1'] = [21]\n",
    "new_test['2'] = [20]"
   ]
  },
  {
   "cell_type": "code",
   "execution_count": 50,
   "id": "9af5734f",
   "metadata": {},
   "outputs": [
    {
     "data": {
      "text/html": [
       "<div>\n",
       "<style scoped>\n",
       "    .dataframe tbody tr th:only-of-type {\n",
       "        vertical-align: middle;\n",
       "    }\n",
       "\n",
       "    .dataframe tbody tr th {\n",
       "        vertical-align: top;\n",
       "    }\n",
       "\n",
       "    .dataframe thead th {\n",
       "        text-align: right;\n",
       "    }\n",
       "</style>\n",
       "<table border=\"1\" class=\"dataframe\">\n",
       "  <thead>\n",
       "    <tr style=\"text-align: right;\">\n",
       "      <th></th>\n",
       "      <th>0</th>\n",
       "      <th>1</th>\n",
       "      <th>2</th>\n",
       "    </tr>\n",
       "  </thead>\n",
       "  <tbody>\n",
       "    <tr>\n",
       "      <th>0</th>\n",
       "      <td>54</td>\n",
       "      <td>21</td>\n",
       "      <td>20</td>\n",
       "    </tr>\n",
       "  </tbody>\n",
       "</table>\n",
       "</div>"
      ],
      "text/plain": [
       "    0   1   2\n",
       "0  54  21  20"
      ]
     },
     "execution_count": 50,
     "metadata": {},
     "output_type": "execute_result"
    }
   ],
   "source": [
    "new_test"
   ]
  },
  {
   "cell_type": "code",
   "execution_count": 51,
   "id": "f5097c74",
   "metadata": {},
   "outputs": [],
   "source": [
    "from keras import backend as K\n",
    "from keras.models import model_from_json\n",
    "\n",
    "\n",
    "def run(text_input):  \n",
    "    K.clear_session()\n",
    "    f = open(\"model_architecture.json\",'r+')\n",
    "    json_string = f.read()\n",
    "    f.close()\n",
    "    model = model_from_json(json_string)\n",
    "\n",
    "    model.load_weights('model_weights.h5')\n",
    "    model.compile(loss='categorical_crossentropy', optimizer='adam', metrics=['accuracy'])\n",
    "    \n",
    "    predict_x = model.predict(text_input)\n",
    "    pred = np.argmax(predict_x, axis=1)\n",
    "    \n",
    "    ans = encoder_dest.inverse_transform(pred)\n",
    "\n",
    "    return ans[0]\n",
    "    K.clear_session()"
   ]
  },
  {
   "cell_type": "code",
   "execution_count": 52,
   "id": "9bfc3c8d",
   "metadata": {},
   "outputs": [
    {
     "name": "stdout",
     "output_type": "stream",
     "text": [
      "1/1 [==============================] - 0s 61ms/step\n"
     ]
    },
    {
     "data": {
      "text/plain": [
       "'AMS'"
      ]
     },
     "execution_count": 52,
     "metadata": {},
     "output_type": "execute_result"
    }
   ],
   "source": [
    "run(new_test)"
   ]
  },
  {
   "cell_type": "code",
   "execution_count": null,
   "id": "f697d57e",
   "metadata": {},
   "outputs": [],
   "source": [
    "model.save_weights('model_weights.h5')\n",
    "json_string = model.to_json()\n",
    "f = open(\"model_architecture.json\",'w')\n",
    "f.write(json_string)\n",
    "f.close()"
   ]
  },
  {
   "cell_type": "code",
   "execution_count": null,
   "id": "2625e0eb",
   "metadata": {},
   "outputs": [],
   "source": []
  }
 ],
 "metadata": {
  "kernelspec": {
   "display_name": ".venv",
   "language": "python",
   "name": "python3"
  },
  "language_info": {
   "codemirror_mode": {
    "name": "ipython",
    "version": 3
   },
   "file_extension": ".py",
   "mimetype": "text/x-python",
   "name": "python",
   "nbconvert_exporter": "python",
   "pygments_lexer": "ipython3",
   "version": "3.9.5 (tags/v3.9.5:0a7dcbd, May  3 2021, 17:27:52) [MSC v.1928 64 bit (AMD64)]"
  },
  "vscode": {
   "interpreter": {
    "hash": "e3b32a9a28d9b67899b0cdb0e6a2739cf57a158ac5a05108f910c2f8c6d9a93d"
   }
  }
 },
 "nbformat": 4,
 "nbformat_minor": 5
}
