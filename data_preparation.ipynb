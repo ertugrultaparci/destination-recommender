{
 "cells": [
  {
   "cell_type": "markdown",
   "id": "1597baf6",
   "metadata": {},
   "source": [
    "# Data Preparation"
   ]
  },
  {
   "cell_type": "markdown",
   "id": "30f086ec",
   "metadata": {},
   "source": [
    "## Important Libraries"
   ]
  },
  {
   "cell_type": "code",
   "execution_count": 1,
   "id": "74367df7",
   "metadata": {},
   "outputs": [],
   "source": [
    "import numpy as np\n",
    "import pandas as pd"
   ]
  },
  {
   "cell_type": "markdown",
   "id": "216ffd3d",
   "metadata": {},
   "source": [
    "## Prepare the real data for Deep Learning Model\n",
    "\n",
    "##### Note: The data named 'data.csv' does not exist in the repository due to confidential information."
   ]
  },
  {
   "cell_type": "code",
   "execution_count": 2,
   "id": "1b553653",
   "metadata": {},
   "outputs": [],
   "source": [
    "dataframe = pd.read_csv('data.csv', encoding='latin-1')"
   ]
  },
  {
   "cell_type": "code",
   "execution_count": 3,
   "id": "016e7c52",
   "metadata": {},
   "outputs": [],
   "source": [
    "# Drop duplicates:\n",
    "dataframe = dataframe.drop_duplicates()"
   ]
  },
  {
   "cell_type": "code",
   "execution_count": 4,
   "id": "01b9d8ec",
   "metadata": {},
   "outputs": [],
   "source": [
    "# Drop irrelevant columns.\n",
    "dataframe = dataframe.drop([\"Pnr\", \"Booking_Time\", \"Language_Code\", \n",
    "                            \"CUSTOMER_ID\", \"Channel_type\", \"first_Ticketnumber_1stPax\", \n",
    "                            'Rebooking','Involuntary_Rebooking', 'Penalty_amount', 'Flight1', \n",
    "                            'Flight2', 'Flight3', 'Flight4', 'Flight5', 'Flight6', \n",
    "                            'Marketing_Carr', 'Operational_Carr', 'Dep_Date', 'Orig_Airport2', \n",
    "                            'Dest_Airport2', \"Voucher\"], axis=1)"
   ]
  },
  {
   "cell_type": "code",
   "execution_count": 5,
   "id": "2bfd0114",
   "metadata": {},
   "outputs": [],
   "source": [
    "# Select Verzilverd = 1:\n",
    "dataframe = dataframe[dataframe[\"Verzilverd\"]==1]"
   ]
  },
  {
   "cell_type": "code",
   "execution_count": 6,
   "id": "db78a8cf",
   "metadata": {},
   "outputs": [],
   "source": [
    "# change the type of column from string to datetime\n",
    "dataframe[\"Booking_Date\"] = pd.to_datetime(dataframe[\"Booking_Date\"])"
   ]
  },
  {
   "cell_type": "code",
   "execution_count": 7,
   "id": "9a1cf8e1",
   "metadata": {},
   "outputs": [],
   "source": [
    "# Fill with 0 where the value of column 'Tot_Fare_Incl_Tax_Eur' is 'NaN':\n",
    "dataframe['Tot_Fare_Incl_Tax_Eur'] = dataframe['Tot_Fare_Incl_Tax_Eur'].fillna(0)"
   ]
  },
  {
   "cell_type": "code",
   "execution_count": 8,
   "id": "24e2c80b",
   "metadata": {},
   "outputs": [],
   "source": [
    "dataframe.loc[:,\"FullNm\"] = dataframe.loc[:,\"FirstNm\"].astype(str) +\" \"+ dataframe.loc[:,\"LastNm\"]\n",
    "\n",
    "dataframe[\"FullNm\"] = dataframe[\"FullNm\"].str.title()\n",
    "\n",
    "dataframe = dataframe[dataframe[\"FullNm\"].notnull()]"
   ]
  },
  {
   "cell_type": "code",
   "execution_count": 9,
   "id": "32f87808",
   "metadata": {},
   "outputs": [],
   "source": [
    "# Eleminate \"NaN\" values\n",
    "dataframe = dataframe[dataframe['Number_Of_Pax'].notnull()]\n",
    "dataframe = dataframe[dataframe['Nb_Of_Stops'].notnull()]\n",
    "dataframe = dataframe[dataframe['Nb_Days_Dep_Ret'].notnull()]"
   ]
  },
  {
   "cell_type": "code",
   "execution_count": 10,
   "id": "708bda9d",
   "metadata": {},
   "outputs": [],
   "source": [
    "dataframe = dataframe[['FullNm', 'Email_Address', 'Booking_Date', 'Orig_Airport', 'Dest_Airport']]"
   ]
  },
  {
   "cell_type": "markdown",
   "id": "f75b934b",
   "metadata": {},
   "source": [
    "### Hide the data:"
   ]
  },
  {
   "cell_type": "code",
   "execution_count": 11,
   "id": "1bee0ae5",
   "metadata": {},
   "outputs": [],
   "source": [
    "name_list = dataframe['FullNm'].unique()"
   ]
  },
  {
   "cell_type": "code",
   "execution_count": 12,
   "id": "2da65a5a",
   "metadata": {},
   "outputs": [
    {
     "data": {
      "text/plain": [
       "139889"
      ]
     },
     "execution_count": 12,
     "metadata": {},
     "output_type": "execute_result"
    }
   ],
   "source": [
    "name_list.size"
   ]
  },
  {
   "cell_type": "code",
   "execution_count": 13,
   "id": "6e95bd8e",
   "metadata": {},
   "outputs": [],
   "source": [
    "new_name = []"
   ]
  },
  {
   "cell_type": "code",
   "execution_count": 14,
   "id": "16381a7e",
   "metadata": {},
   "outputs": [],
   "source": [
    "for i in range(len(name_list)):\n",
    "    new_name.append('X'+str(i))"
   ]
  },
  {
   "cell_type": "code",
   "execution_count": 15,
   "id": "c4f23446",
   "metadata": {},
   "outputs": [
    {
     "data": {
      "text/plain": [
       "'X0'"
      ]
     },
     "execution_count": 15,
     "metadata": {},
     "output_type": "execute_result"
    }
   ],
   "source": [
    "new_name[0]"
   ]
  },
  {
   "cell_type": "code",
   "execution_count": 16,
   "id": "10af15a7",
   "metadata": {},
   "outputs": [],
   "source": [
    "new_dataframe_name = pd.DataFrame()\n",
    "\n",
    "new_dataframe_name[\"RealName\"] = name_list\n",
    "new_dataframe_name[\"FakeName\"] = new_name"
   ]
  },
  {
   "cell_type": "code",
   "execution_count": 17,
   "id": "3e82683e",
   "metadata": {},
   "outputs": [],
   "source": [
    "mail_list = dataframe['Email_Address'].unique()"
   ]
  },
  {
   "cell_type": "code",
   "execution_count": 18,
   "id": "f325b9d9",
   "metadata": {},
   "outputs": [
    {
     "data": {
      "text/plain": [
       "1880"
      ]
     },
     "execution_count": 18,
     "metadata": {},
     "output_type": "execute_result"
    }
   ],
   "source": [
    "mail_list.size"
   ]
  },
  {
   "cell_type": "code",
   "execution_count": 19,
   "id": "be856c84",
   "metadata": {},
   "outputs": [],
   "source": [
    "new_mail = []\n",
    "for i in range(len(mail_list)):\n",
    "    new_mail.append('M'+str(i))"
   ]
  },
  {
   "cell_type": "code",
   "execution_count": 20,
   "id": "4e5d3e3f",
   "metadata": {},
   "outputs": [],
   "source": [
    "new_dataframe_mail = pd.DataFrame()\n",
    "\n",
    "new_dataframe_mail[\"RealMail\"] = mail_list\n",
    "new_dataframe_mail[\"FakeMail\"] = new_mail"
   ]
  },
  {
   "cell_type": "code",
   "execution_count": 21,
   "id": "fd2217a3",
   "metadata": {},
   "outputs": [],
   "source": [
    "df_cd = pd.merge(dataframe, new_dataframe_name, how='left', left_on = 'FullNm', right_on = 'RealName')"
   ]
  },
  {
   "cell_type": "code",
   "execution_count": 22,
   "id": "8403a878",
   "metadata": {},
   "outputs": [],
   "source": [
    "dataframe = df_cd.drop(['FullNm', 'RealName'], axis=1)"
   ]
  },
  {
   "cell_type": "code",
   "execution_count": 23,
   "id": "955570de",
   "metadata": {},
   "outputs": [],
   "source": [
    "df_cd = pd.merge(dataframe, new_dataframe_mail, how='left', left_on = 'Email_Address', right_on = 'RealMail')\n",
    "dataframe = df_cd.drop(['Email_Address', 'RealMail'], axis=1)"
   ]
  },
  {
   "cell_type": "code",
   "execution_count": 24,
   "id": "30c684b7",
   "metadata": {},
   "outputs": [],
   "source": [
    "dataframe = dataframe[['Booking_Date', 'FakeName', 'FakeMail', 'Orig_Airport', 'Dest_Airport']]"
   ]
  },
  {
   "cell_type": "markdown",
   "id": "7b95b55d",
   "metadata": {},
   "source": [
    "## The dataset that will be used in the model:"
   ]
  },
  {
   "cell_type": "code",
   "execution_count": 25,
   "id": "4d13cf02",
   "metadata": {},
   "outputs": [
    {
     "data": {
      "text/html": [
       "<div>\n",
       "<style scoped>\n",
       "    .dataframe tbody tr th:only-of-type {\n",
       "        vertical-align: middle;\n",
       "    }\n",
       "\n",
       "    .dataframe tbody tr th {\n",
       "        vertical-align: top;\n",
       "    }\n",
       "\n",
       "    .dataframe thead th {\n",
       "        text-align: right;\n",
       "    }\n",
       "</style>\n",
       "<table border=\"1\" class=\"dataframe\">\n",
       "  <thead>\n",
       "    <tr style=\"text-align: right;\">\n",
       "      <th></th>\n",
       "      <th>Booking_Date</th>\n",
       "      <th>FakeName</th>\n",
       "      <th>FakeMail</th>\n",
       "      <th>Orig_Airport</th>\n",
       "      <th>Dest_Airport</th>\n",
       "    </tr>\n",
       "  </thead>\n",
       "  <tbody>\n",
       "    <tr>\n",
       "      <th>0</th>\n",
       "      <td>2021-01-01</td>\n",
       "      <td>X0</td>\n",
       "      <td>M0</td>\n",
       "      <td>MPL</td>\n",
       "      <td>BGO</td>\n",
       "    </tr>\n",
       "    <tr>\n",
       "      <th>1</th>\n",
       "      <td>2021-01-01</td>\n",
       "      <td>X1</td>\n",
       "      <td>M1</td>\n",
       "      <td>MRS</td>\n",
       "      <td>CFR</td>\n",
       "    </tr>\n",
       "    <tr>\n",
       "      <th>2</th>\n",
       "      <td>2021-01-01</td>\n",
       "      <td>X2</td>\n",
       "      <td>M2</td>\n",
       "      <td>ORY</td>\n",
       "      <td>PTP</td>\n",
       "    </tr>\n",
       "    <tr>\n",
       "      <th>3</th>\n",
       "      <td>2021-01-01</td>\n",
       "      <td>X3</td>\n",
       "      <td>M3</td>\n",
       "      <td>MAN</td>\n",
       "      <td>AMS</td>\n",
       "    </tr>\n",
       "    <tr>\n",
       "      <th>4</th>\n",
       "      <td>2021-01-01</td>\n",
       "      <td>X4</td>\n",
       "      <td>M1</td>\n",
       "      <td>MUC</td>\n",
       "      <td>AMS</td>\n",
       "    </tr>\n",
       "    <tr>\n",
       "      <th>5</th>\n",
       "      <td>2021-01-01</td>\n",
       "      <td>X5</td>\n",
       "      <td>M4</td>\n",
       "      <td>LHR</td>\n",
       "      <td>YYZ</td>\n",
       "    </tr>\n",
       "    <tr>\n",
       "      <th>6</th>\n",
       "      <td>2021-01-01</td>\n",
       "      <td>X6</td>\n",
       "      <td>M4</td>\n",
       "      <td>CPH</td>\n",
       "      <td>AUA</td>\n",
       "    </tr>\n",
       "    <tr>\n",
       "      <th>7</th>\n",
       "      <td>2021-01-01</td>\n",
       "      <td>X7</td>\n",
       "      <td>M1</td>\n",
       "      <td>ORY</td>\n",
       "      <td>PGF</td>\n",
       "    </tr>\n",
       "    <tr>\n",
       "      <th>8</th>\n",
       "      <td>2021-01-01</td>\n",
       "      <td>X8</td>\n",
       "      <td>M4</td>\n",
       "      <td>CDG</td>\n",
       "      <td>TLS</td>\n",
       "    </tr>\n",
       "    <tr>\n",
       "      <th>9</th>\n",
       "      <td>2021-01-01</td>\n",
       "      <td>X9</td>\n",
       "      <td>M4</td>\n",
       "      <td>CDG</td>\n",
       "      <td>NTE</td>\n",
       "    </tr>\n",
       "  </tbody>\n",
       "</table>\n",
       "</div>"
      ],
      "text/plain": [
       "  Booking_Date FakeName FakeMail Orig_Airport Dest_Airport\n",
       "0   2021-01-01       X0       M0          MPL          BGO\n",
       "1   2021-01-01       X1       M1          MRS          CFR\n",
       "2   2021-01-01       X2       M2          ORY          PTP\n",
       "3   2021-01-01       X3       M3          MAN          AMS\n",
       "4   2021-01-01       X4       M1          MUC          AMS\n",
       "5   2021-01-01       X5       M4          LHR          YYZ\n",
       "6   2021-01-01       X6       M4          CPH          AUA\n",
       "7   2021-01-01       X7       M1          ORY          PGF\n",
       "8   2021-01-01       X8       M4          CDG          TLS\n",
       "9   2021-01-01       X9       M4          CDG          NTE"
      ]
     },
     "execution_count": 25,
     "metadata": {},
     "output_type": "execute_result"
    }
   ],
   "source": [
    "dataframe.head(10)"
   ]
  },
  {
   "cell_type": "code",
   "execution_count": 26,
   "id": "fffac403",
   "metadata": {},
   "outputs": [],
   "source": [
    "# export the data:\n",
    "dataframe.to_csv('newdata.csv', index=False)"
   ]
  }
 ],
 "metadata": {
  "kernelspec": {
   "display_name": "Python 3 (ipykernel)",
   "language": "python",
   "name": "python3"
  },
  "language_info": {
   "codemirror_mode": {
    "name": "ipython",
    "version": 3
   },
   "file_extension": ".py",
   "mimetype": "text/x-python",
   "name": "python",
   "nbconvert_exporter": "python",
   "pygments_lexer": "ipython3",
   "version": "3.9.12"
  }
 },
 "nbformat": 4,
 "nbformat_minor": 5
}
